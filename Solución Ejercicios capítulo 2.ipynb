{
 "cells": [
  {
   "cell_type": "markdown",
   "metadata": {},
   "source": [
    "# Solución Ejercicios Capítulo 2\n",
    "\n",
    "2.11 Escriba un programa que lea los datos 7.0, 2.0, 8.3, 3.0, 5.6, 4.0, y calcule lo siguiente:\n",
    "a) El mayor\n",
    "b) El menor\n",
    "c) La suma\n",
    "d) La media"
   ]
  },
  {
   "cell_type": "code",
   "execution_count": 13,
   "metadata": {},
   "outputs": [
    {
     "name": "stdout",
     "output_type": "stream",
     "text": [
      "8.3\n",
      "2\n",
      "29.9\n",
      "4.983333333333333\n"
     ]
    }
   ],
   "source": [
    "lista=[7,2,8.3,3,5.6,4]\n",
    "#El mayor\n",
    "mayor=max(lista)\n",
    "print(mayor)\n",
    "#El menor\n",
    "menor=min(lista)\n",
    "print(menor)\n",
    "# La suma\n",
    "suma=sum(lista)\n",
    "print(suma)\n",
    "# Para la media: (i) Calcular cuántos números tiene la lista, (ii) media=suma/números\n",
    "numeros=len(lista)\n",
    "media=suma/numeros\n",
    "print(media)"
   ]
  }
 ],
 "metadata": {
  "kernelspec": {
   "display_name": "Python 3",
   "language": "python",
   "name": "python3"
  },
  "language_info": {
   "codemirror_mode": {
    "name": "ipython",
    "version": 3
   },
   "file_extension": ".py",
   "mimetype": "text/x-python",
   "name": "python",
   "nbconvert_exporter": "python",
   "pygments_lexer": "ipython3",
   "version": "3.7.6"
  }
 },
 "nbformat": 4,
 "nbformat_minor": 4
}
