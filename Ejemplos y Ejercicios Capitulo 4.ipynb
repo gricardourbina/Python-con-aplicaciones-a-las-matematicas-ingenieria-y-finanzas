{
 "cells": [
  {
   "cell_type": "markdown",
   "metadata": {},
   "source": [
    "Ejemplo 1: Programa que suma los n primeros números naturales"
   ]
  },
  {
   "cell_type": "code",
   "execution_count": 9,
   "metadata": {},
   "outputs": [
    {
     "name": "stdout",
     "output_type": "stream",
     "text": [
      "Introduzca el valor de N: 7\n",
      "La suma es:  28\n"
     ]
    }
   ],
   "source": [
    "suma=0\n",
    "j=1\n",
    "N=int(input(\"Introduzca el valor de N: \"))\n",
    "while (j<=N):\n",
    "    suma=suma+j\n",
    "    j=j+1\n",
    "print(\"La suma es: \", suma)"
   ]
  },
  {
   "cell_type": "markdown",
   "metadata": {},
   "source": [
    "Ejemplo 2: Programa que establece si un número es o no primo"
   ]
  },
  {
   "cell_type": "code",
   "execution_count": 1,
   "metadata": {},
   "outputs": [
    {
     "name": "stdout",
     "output_type": "stream",
     "text": [
      "¿Cuál es el número?: 15\n",
      "15 no es primo\n"
     ]
    }
   ],
   "source": [
    "import math\n",
    "divisor=2\n",
    "n=int(input(\"¿Cuál es el número?: \"))\n",
    "while (divisor<=math.sqrt(n)):\n",
    "    cociente=n//divisor\n",
    "    if (n==cociente*divisor):\n",
    "        divisor=n+1\n",
    "    else:\n",
    "        divisor=divisor+1\n",
    "if (divisor>n):\n",
    "    print(n, \"no es primo\")\n",
    "else:\n",
    "    print(n, \"es primo\")   \n",
    "    "
   ]
  },
  {
   "cell_type": "markdown",
   "metadata": {},
   "source": [
    "Ejemplo 3: Programa que suma los números del 1 al 10"
   ]
  },
  {
   "cell_type": "code",
   "execution_count": 5,
   "metadata": {},
   "outputs": [
    {
     "name": "stdout",
     "output_type": "stream",
     "text": [
      "La suma es:  55\n"
     ]
    }
   ],
   "source": [
    "suma=0\n",
    "lista=[1,2,3,4,5,6,7,8,9,10]\n",
    "for contador in lista:\n",
    "    suma=suma+contador\n",
    "print(\"La suma es: \", suma)"
   ]
  },
  {
   "cell_type": "markdown",
   "metadata": {},
   "source": [
    "Ejemplo 5: Encontrar el número de vocales de una cadena llamada frase. Se debe contar si la vocal está en mayúscula o minúscula. "
   ]
  },
  {
   "cell_type": "code",
   "execution_count": 11,
   "metadata": {},
   "outputs": [
    {
     "name": "stdout",
     "output_type": "stream",
     "text": [
      "El número de vocales es:  11\n"
     ]
    }
   ],
   "source": [
    "frase=\"Germán Ricardo Urbina Forero\"\n",
    "base=\"aeiouAEIOUáéíóú\"\n",
    "cuenta=0\n",
    "for i in frase:\n",
    "    if i in base:\n",
    "        cuenta=cuenta+1\n",
    "print(\"El número de vocales es: \", cuenta)   "
   ]
  },
  {
   "cell_type": "markdown",
   "metadata": {},
   "source": [
    "Ejemplo 6: Se desea encontrar el número de días en que la población de una colonia de bacterias llegará a un cierto valor Mmax. La población se duplica cada dos días. "
   ]
  },
  {
   "cell_type": "code",
   "execution_count": 2,
   "metadata": {},
   "outputs": [
    {
     "name": "stdout",
     "output_type": "stream",
     "text": [
      "Cuál es la población máxima: \n",
      "200\n",
      "El número de días es:  9\n",
      "La población de bacterías es:  320\n"
     ]
    }
   ],
   "source": [
    "nd=1\n",
    "M0=10\n",
    "Mmax=int(input(\"Cuál es la población máxima: \\n\"))\n",
    "while (M0<=Mmax):\n",
    "    M0=2*M0\n",
    "    if M0<=Mmax:\n",
    "        nd=nd+2\n",
    "print(\"El número de días es: \", nd)\n",
    "#print(\"La población de bacterías es: \", M0)"
   ]
  },
  {
   "cell_type": "code",
   "execution_count": 8,
   "metadata": {},
   "outputs": [
    {
     "data": {
      "text/plain": [
       "[0, 1, 2]"
      ]
     },
     "execution_count": 8,
     "metadata": {},
     "output_type": "execute_result"
    }
   ],
   "source": [
    "list(range(-1,7,2))\n",
    "list(range(3))"
   ]
  },
  {
   "cell_type": "markdown",
   "metadata": {},
   "source": [
    "Ejemplo 4.7: Se leen las calificaciones de cierto número de alumnos. El algoritmo debe leer el nombre de cada alumno para luego proceder a leer las calificaciones de cada alumno y entregar su promedio. "
   ]
  },
  {
   "cell_type": "code",
   "execution_count": 37,
   "metadata": {},
   "outputs": [
    {
     "name": "stdout",
     "output_type": "stream",
     "text": [
      "¿Cuántos alumnos? 2\n",
      "¿Cuántas calificaciones por estudiante?: 2\n",
      "Nombre del estudiante: Pepe\n",
      "Introduzca la calificación: 4.5\n",
      "Introduzca la calificación: 5\n",
      "El promedio del estudiante 1 es:  4.75\n",
      "Nombre del estudiante: Ana\n",
      "Introduzca la calificación: 2\n",
      "Introduzca la calificación: 2\n",
      "El promedio del estudiante 2 es:  2.0\n"
     ]
    }
   ],
   "source": [
    "No_est=int(input(\"¿Cuántos alumnos? \"))\n",
    "No_cals=int(input(\"¿Cuántas calificaciones por estudiante?: \"))\n",
    "for cont_est in range(No_est):\n",
    "    Nombre_est=input(\"Nombre del estudiante: \")\n",
    "    cont_cals=1\n",
    "    suma=0\n",
    "    while (cont_cals<=No_cals):\n",
    "        calificacion=float(input(\"Introduzca la calificación: \"))\n",
    "        suma=suma+calificacion\n",
    "        cont_cals=cont_cals+1\n",
    "    promedio=suma/No_cals\n",
    "    print(\"El promedio del estudiante\", cont_est+1, \"es: \", promedio)"
   ]
  },
  {
   "cell_type": "markdown",
   "metadata": {},
   "source": [
    "Ejemplo 4.8: Calcular los valores de la función f(x,y,z)=3x^3-7(y^2)z, para x=0,1,2,3,4, y=0.6,0.9,1.2,1.5 y z=-1,2,5,8"
   ]
  },
  {
   "cell_type": "code",
   "execution_count": 17,
   "metadata": {},
   "outputs": [
    {
     "name": "stdout",
     "output_type": "stream",
     "text": [
      "El valor de f(x,y,z) es -2.52\n",
      "El valor de f(x,y,z) es 5.04\n",
      "El valor de f(x,y,z) es 12.6\n",
      "El valor de f(x,y,z) es 20.16\n",
      "El valor de f(x,y,z) es -5.669999999999999\n",
      "El valor de f(x,y,z) es 11.339999999999998\n",
      "El valor de f(x,y,z) es 28.349999999999994\n",
      "El valor de f(x,y,z) es 45.35999999999999\n",
      "El valor de f(x,y,z) es -10.08\n",
      "El valor de f(x,y,z) es 20.16\n",
      "El valor de f(x,y,z) es 50.4\n",
      "El valor de f(x,y,z) es 80.64\n",
      "El valor de f(x,y,z) es -15.75\n",
      "El valor de f(x,y,z) es 31.5\n",
      "El valor de f(x,y,z) es 78.75\n",
      "El valor de f(x,y,z) es 126.0\n",
      "El valor de f(x,y,z) es 0.48\n",
      "El valor de f(x,y,z) es 8.04\n",
      "El valor de f(x,y,z) es 15.6\n",
      "El valor de f(x,y,z) es 23.16\n",
      "El valor de f(x,y,z) es -2.669999999999999\n",
      "El valor de f(x,y,z) es 14.339999999999998\n",
      "El valor de f(x,y,z) es 31.349999999999994\n",
      "El valor de f(x,y,z) es 48.35999999999999\n",
      "El valor de f(x,y,z) es -7.08\n",
      "El valor de f(x,y,z) es 23.16\n",
      "El valor de f(x,y,z) es 53.4\n",
      "El valor de f(x,y,z) es 83.64\n",
      "El valor de f(x,y,z) es -12.75\n",
      "El valor de f(x,y,z) es 34.5\n",
      "El valor de f(x,y,z) es 81.75\n",
      "El valor de f(x,y,z) es 129.0\n",
      "El valor de f(x,y,z) es 21.48\n",
      "El valor de f(x,y,z) es 29.04\n",
      "El valor de f(x,y,z) es 36.6\n",
      "El valor de f(x,y,z) es 44.16\n",
      "El valor de f(x,y,z) es 18.330000000000002\n",
      "El valor de f(x,y,z) es 35.339999999999996\n",
      "El valor de f(x,y,z) es 52.349999999999994\n",
      "El valor de f(x,y,z) es 69.35999999999999\n",
      "El valor de f(x,y,z) es 13.92\n",
      "El valor de f(x,y,z) es 44.16\n",
      "El valor de f(x,y,z) es 74.4\n",
      "El valor de f(x,y,z) es 104.64\n",
      "El valor de f(x,y,z) es 8.25\n",
      "El valor de f(x,y,z) es 55.5\n",
      "El valor de f(x,y,z) es 102.75\n",
      "El valor de f(x,y,z) es 150.0\n",
      "El valor de f(x,y,z) es 78.48\n",
      "El valor de f(x,y,z) es 86.04\n",
      "El valor de f(x,y,z) es 93.6\n",
      "El valor de f(x,y,z) es 101.16\n",
      "El valor de f(x,y,z) es 75.33\n",
      "El valor de f(x,y,z) es 92.34\n",
      "El valor de f(x,y,z) es 109.35\n",
      "El valor de f(x,y,z) es 126.35999999999999\n",
      "El valor de f(x,y,z) es 70.92\n",
      "El valor de f(x,y,z) es 101.16\n",
      "El valor de f(x,y,z) es 131.4\n",
      "El valor de f(x,y,z) es 161.64\n",
      "El valor de f(x,y,z) es 65.25\n",
      "El valor de f(x,y,z) es 112.5\n",
      "El valor de f(x,y,z) es 159.75\n",
      "El valor de f(x,y,z) es 207.0\n",
      "El valor de f(x,y,z) es 189.48\n",
      "El valor de f(x,y,z) es 197.04\n",
      "El valor de f(x,y,z) es 204.6\n",
      "El valor de f(x,y,z) es 212.16\n",
      "El valor de f(x,y,z) es 186.33\n",
      "El valor de f(x,y,z) es 203.34\n",
      "El valor de f(x,y,z) es 220.35\n",
      "El valor de f(x,y,z) es 237.35999999999999\n",
      "El valor de f(x,y,z) es 181.92\n",
      "El valor de f(x,y,z) es 212.16\n",
      "El valor de f(x,y,z) es 242.4\n",
      "El valor de f(x,y,z) es 272.64\n",
      "El valor de f(x,y,z) es 176.25\n",
      "El valor de f(x,y,z) es 223.5\n",
      "El valor de f(x,y,z) es 270.75\n",
      "El valor de f(x,y,z) es 318.0\n"
     ]
    }
   ],
   "source": [
    "import math\n",
    "for x in range(5):\n",
    "    y=0.6\n",
    "    while (y<=1.5):\n",
    "        z=-1\n",
    "        while (z<=8):\n",
    "            f=3*pow(x,3)+7*pow(y,2)*z\n",
    "            print (\"El valor de f(x,y,z) es\", f)\n",
    "            z=z+3\n",
    "        y=y+0.3            "
   ]
  },
  {
   "attachments": {
    "image.png": {
     "image/png": "[encoded data removed]"
    }
   },
   "cell_type": "markdown",
   "metadata": {},
   "source": [
    "Ejemplo 4.9: Triple sumatoria ![image.png](attachment:image.png)"
   ]
  },
  {
   "cell_type": "code",
   "execution_count": 20,
   "metadata": {},
   "outputs": [
    {
     "name": "stdout",
     "output_type": "stream",
     "text": [
      "El valor de s es:  51998\n"
     ]
    }
   ],
   "source": [
    "s=0\n",
    "for i in range(11):\n",
    "    for j in range(5,10):\n",
    "        for k in range(-1,8):\n",
    "            s=s+i*j*k\n",
    "s=s+23\n",
    "print(\"El valor de s es: \", s)"
   ]
  },
  {
   "cell_type": "markdown",
   "metadata": {},
   "source": [
    "Ejemplo 4.10: Se desea modificar el algoritmo del ejemplo 4.7 para calcular el promedio y el porcentaje de alumnos aprobados. "
   ]
  },
  {
   "cell_type": "code",
   "execution_count": 1,
   "metadata": {},
   "outputs": [
    {
     "name": "stdout",
     "output_type": "stream",
     "text": [
      "¿Cuántos alumnos? 1\n",
      "Nombre del estudiante: x\n",
      "¿Cuántas calificaciones tiene el estudiante?: 2\n",
      "Ingrese una calificación: 10\n",
      "Ingrese una calificación: 8\n",
      "El promedio del estudiante 1 es:  9.0\n",
      "El número de estudiantes aprobados es: 1\n"
     ]
    }
   ],
   "source": [
    "No_est=int(input(\"¿Cuántos alumnos? \"))\n",
    "for cont_est in range(No_est):\n",
    "    Nombre_est=input(\"Nombre del estudiante: \")\n",
    "    suma=0\n",
    "    cont_cals=1\n",
    "    promedio_aprobados=0\n",
    "    num_aprobados=0\n",
    "    No_cals=int(input(\"¿Cuántas calificaciones tiene el estudiante?: \"))\n",
    "    while (cont_cals<=No_cals):\n",
    "        calificacion=float(input(\"Ingrese una calificación: \"))\n",
    "        suma=suma+calificacion\n",
    "        cont_cals=cont_cals+1\n",
    "    promedio=suma/No_cals\n",
    "    print(\"El promedio del estudiante\", cont_est+1, \"es: \", promedio)\n",
    "    if promedio>7.5:\n",
    "        num_aprobados=num_aprobados+1    #promedio_aprobados=promedio_aprobados+promedio              \n",
    "print(\"El número de estudiantes aprobados es:\", num_aprobados)"
   ]
  }
 ],
 "metadata": {
  "kernelspec": {
   "display_name": "Python 3",
   "language": "python",
   "name": "python3"
  },
  "language_info": {
   "codemirror_mode": {
    "name": "ipython",
    "version": 3
   },
   "file_extension": ".py",
   "mimetype": "text/x-python",
   "name": "python",
   "nbconvert_exporter": "python",
   "pygments_lexer": "ipython3",
   "version": "3.7.6"
  }
 },
 "nbformat": 4,
 "nbformat_minor": 4
}
