{
 "cells": [
  {
   "cell_type": "markdown",
   "metadata": {},
   "source": [
    "# Solución Ejercicios capítulo 2 "
   ]
  },
  {
   "cell_type": "code",
   "execution_count": 28,
   "metadata": {},
   "outputs": [
    {
     "name": "stdout",
     "output_type": "stream",
     "text": [
      "Introduzca el capital: 15000\n",
      "Introduzca la tasa: 1.5\n",
      "Introduzca el plazo en meses: 10\n",
      "El interes simple es    225000: \n",
      "El interes compuesto es  17408.11: \n"
     ]
    }
   ],
   "source": [
    "capital=float(input(\"Introduzca el capital: \"))\n",
    "tasa=float(input(\"Introduzca la tasa: \"))\n",
    "n=float(input(\"Introduzca el plazo en meses: \"))\n",
    "interes_simple=capital*n*tasa\n",
    "interes_compuesto=capital*pow(1+(tasa/100),n)\n",
    "print(\"El interes simple es %9.0f: \" %interes_simple)\n",
    "print(\"El interes compuesto es %9.2f: \" %interes_compuesto)\n"
   ]
  },
  {
   "cell_type": "code",
   "execution_count": null,
   "metadata": {},
   "outputs": [],
   "source": []
  },
  {
   "cell_type": "code",
   "execution_count": null,
   "metadata": {},
   "outputs": [],
   "source": []
  }
 ],
 "metadata": {
  "kernelspec": {
   "display_name": "Python 3",
   "language": "python",
   "name": "python3"
  },
  "language_info": {
   "codemirror_mode": {
    "name": "ipython",
    "version": 3
   },
   "file_extension": ".py",
   "mimetype": "text/x-python",
   "name": "python",
   "nbconvert_exporter": "python",
   "pygments_lexer": "ipython3",
   "version": "3.7.6"
  }
 },
 "nbformat": 4,
 "nbformat_minor": 4
}
